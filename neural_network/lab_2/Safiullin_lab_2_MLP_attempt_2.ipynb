{
 "cells": [
  {
   "cell_type": "code",
   "execution_count": 150,
   "metadata": {},
   "outputs": [
    {
     "name": "stdout",
     "output_type": "stream",
     "text": [
      "The tensorboard extension is already loaded. To reload it, use:\n",
      "  %reload_ext tensorboard\n"
     ]
    }
   ],
   "source": [
    "import pandas as pd\n",
    "from datetime import datetime\n",
    "import tensorflow as tf\n",
    "import matplotlib.pyplot as plt\n",
    "import matplotlib\n",
    "import time\n",
    "import numpy as np\n",
    "%matplotlib inline\n",
    "%load_ext tensorboard"
   ]
  },
  {
   "cell_type": "code",
   "execution_count": 151,
   "metadata": {},
   "outputs": [
    {
     "data": {
      "text/plain": [
       "'2.3.0'"
      ]
     },
     "execution_count": 151,
     "metadata": {},
     "output_type": "execute_result"
    }
   ],
   "source": [
    "tf.__version__"
   ]
  },
  {
   "cell_type": "code",
   "execution_count": 152,
   "metadata": {},
   "outputs": [],
   "source": [
    "DATASET_PATH = \"./data/melb_data.csv\"\n",
    "EXCLUDE_COLUMNS = ['Address','Method','SellerG','Date','Postcode','CouncilArea','Lattitude','Longtitude']\n",
    "TARGET_COLUMN_NAME = 'Price'"
   ]
  },
  {
   "cell_type": "code",
   "execution_count": 153,
   "metadata": {},
   "outputs": [],
   "source": [
    "melbourne_data= pd.read_csv(DATASET_PATH) "
   ]
  },
  {
   "cell_type": "code",
   "execution_count": 154,
   "metadata": {},
   "outputs": [
    {
     "data": {
      "text/plain": [
       "Index(['Suburb', 'Address', 'Rooms', 'Type', 'Price', 'Method', 'SellerG',\n",
       "       'Date', 'Distance', 'Postcode', 'Bedroom2', 'Bathroom', 'Car',\n",
       "       'Landsize', 'BuildingArea', 'YearBuilt', 'CouncilArea', 'Lattitude',\n",
       "       'Longtitude', 'Regionname', 'Propertycount'],\n",
       "      dtype='object')"
      ]
     },
     "execution_count": 154,
     "metadata": {},
     "output_type": "execute_result"
    }
   ],
   "source": [
    "melbourne_data.columns"
   ]
  },
  {
   "cell_type": "code",
   "execution_count": 155,
   "metadata": {},
   "outputs": [],
   "source": [
    "melbourne_data = melbourne_data.drop(columns=EXCLUDE_COLUMNS)"
   ]
  },
  {
   "cell_type": "code",
   "execution_count": 156,
   "metadata": {},
   "outputs": [],
   "source": [
    "target_column = melbourne_data.pop(TARGET_COLUMN_NAME)"
   ]
  },
  {
   "cell_type": "code",
   "execution_count": 157,
   "metadata": {},
   "outputs": [
    {
     "data": {
      "text/html": [
       "<div>\n",
       "<style scoped>\n",
       "    .dataframe tbody tr th:only-of-type {\n",
       "        vertical-align: middle;\n",
       "    }\n",
       "\n",
       "    .dataframe tbody tr th {\n",
       "        vertical-align: top;\n",
       "    }\n",
       "\n",
       "    .dataframe thead th {\n",
       "        text-align: right;\n",
       "    }\n",
       "</style>\n",
       "<table border=\"1\" class=\"dataframe\">\n",
       "  <thead>\n",
       "    <tr style=\"text-align: right;\">\n",
       "      <th></th>\n",
       "      <th>Suburb</th>\n",
       "      <th>Rooms</th>\n",
       "      <th>Type</th>\n",
       "      <th>Distance</th>\n",
       "      <th>Bedroom2</th>\n",
       "      <th>Bathroom</th>\n",
       "      <th>Car</th>\n",
       "      <th>Landsize</th>\n",
       "      <th>BuildingArea</th>\n",
       "      <th>YearBuilt</th>\n",
       "      <th>Regionname</th>\n",
       "      <th>Propertycount</th>\n",
       "    </tr>\n",
       "  </thead>\n",
       "  <tbody>\n",
       "    <tr>\n",
       "      <th>0</th>\n",
       "      <td>Abbotsford</td>\n",
       "      <td>2</td>\n",
       "      <td>h</td>\n",
       "      <td>2.5</td>\n",
       "      <td>2.0</td>\n",
       "      <td>1.0</td>\n",
       "      <td>1.0</td>\n",
       "      <td>202.0</td>\n",
       "      <td>NaN</td>\n",
       "      <td>NaN</td>\n",
       "      <td>Northern Metropolitan</td>\n",
       "      <td>4019.0</td>\n",
       "    </tr>\n",
       "    <tr>\n",
       "      <th>1</th>\n",
       "      <td>Abbotsford</td>\n",
       "      <td>2</td>\n",
       "      <td>h</td>\n",
       "      <td>2.5</td>\n",
       "      <td>2.0</td>\n",
       "      <td>1.0</td>\n",
       "      <td>0.0</td>\n",
       "      <td>156.0</td>\n",
       "      <td>79.0</td>\n",
       "      <td>1900.0</td>\n",
       "      <td>Northern Metropolitan</td>\n",
       "      <td>4019.0</td>\n",
       "    </tr>\n",
       "    <tr>\n",
       "      <th>2</th>\n",
       "      <td>Abbotsford</td>\n",
       "      <td>3</td>\n",
       "      <td>h</td>\n",
       "      <td>2.5</td>\n",
       "      <td>3.0</td>\n",
       "      <td>2.0</td>\n",
       "      <td>0.0</td>\n",
       "      <td>134.0</td>\n",
       "      <td>150.0</td>\n",
       "      <td>1900.0</td>\n",
       "      <td>Northern Metropolitan</td>\n",
       "      <td>4019.0</td>\n",
       "    </tr>\n",
       "    <tr>\n",
       "      <th>3</th>\n",
       "      <td>Abbotsford</td>\n",
       "      <td>3</td>\n",
       "      <td>h</td>\n",
       "      <td>2.5</td>\n",
       "      <td>3.0</td>\n",
       "      <td>2.0</td>\n",
       "      <td>1.0</td>\n",
       "      <td>94.0</td>\n",
       "      <td>NaN</td>\n",
       "      <td>NaN</td>\n",
       "      <td>Northern Metropolitan</td>\n",
       "      <td>4019.0</td>\n",
       "    </tr>\n",
       "    <tr>\n",
       "      <th>4</th>\n",
       "      <td>Abbotsford</td>\n",
       "      <td>4</td>\n",
       "      <td>h</td>\n",
       "      <td>2.5</td>\n",
       "      <td>3.0</td>\n",
       "      <td>1.0</td>\n",
       "      <td>2.0</td>\n",
       "      <td>120.0</td>\n",
       "      <td>142.0</td>\n",
       "      <td>2014.0</td>\n",
       "      <td>Northern Metropolitan</td>\n",
       "      <td>4019.0</td>\n",
       "    </tr>\n",
       "  </tbody>\n",
       "</table>\n",
       "</div>"
      ],
      "text/plain": [
       "       Suburb  Rooms Type  Distance  Bedroom2  Bathroom  Car  Landsize  \\\n",
       "0  Abbotsford      2    h       2.5       2.0       1.0  1.0     202.0   \n",
       "1  Abbotsford      2    h       2.5       2.0       1.0  0.0     156.0   \n",
       "2  Abbotsford      3    h       2.5       3.0       2.0  0.0     134.0   \n",
       "3  Abbotsford      3    h       2.5       3.0       2.0  1.0      94.0   \n",
       "4  Abbotsford      4    h       2.5       3.0       1.0  2.0     120.0   \n",
       "\n",
       "   BuildingArea  YearBuilt             Regionname  Propertycount  \n",
       "0           NaN        NaN  Northern Metropolitan         4019.0  \n",
       "1          79.0     1900.0  Northern Metropolitan         4019.0  \n",
       "2         150.0     1900.0  Northern Metropolitan         4019.0  \n",
       "3           NaN        NaN  Northern Metropolitan         4019.0  \n",
       "4         142.0     2014.0  Northern Metropolitan         4019.0  "
      ]
     },
     "execution_count": 157,
     "metadata": {},
     "output_type": "execute_result"
    }
   ],
   "source": [
    "melbourne_data.head()"
   ]
  },
  {
   "cell_type": "code",
   "execution_count": 158,
   "metadata": {},
   "outputs": [],
   "source": [
    "# lower \n",
    "melbourne_data['Suburb']=melbourne_data['Suburb'].str.lower()\n",
    "melbourne_data['Regionname']=melbourne_data['Regionname'].str.lower()\n",
    "\n",
    "# covenrt hige numbers to small\n",
    "numeric_features = melbourne_data.dtypes[melbourne_data.dtypes != 'object'].index\n",
    "melbourne_data[numeric_features] = melbourne_data[numeric_features].apply(\n",
    "    lambda x: (x - x.mean()) / (x.std()))\n",
    "melbourne_data[numeric_features] = melbourne_data[numeric_features].fillna(-1)"
   ]
  },
  {
   "cell_type": "code",
   "execution_count": 159,
   "metadata": {},
   "outputs": [
    {
     "data": {
      "text/html": [
       "<div>\n",
       "<style scoped>\n",
       "    .dataframe tbody tr th:only-of-type {\n",
       "        vertical-align: middle;\n",
       "    }\n",
       "\n",
       "    .dataframe tbody tr th {\n",
       "        vertical-align: top;\n",
       "    }\n",
       "\n",
       "    .dataframe thead th {\n",
       "        text-align: right;\n",
       "    }\n",
       "</style>\n",
       "<table border=\"1\" class=\"dataframe\">\n",
       "  <thead>\n",
       "    <tr style=\"text-align: right;\">\n",
       "      <th></th>\n",
       "      <th>Suburb</th>\n",
       "      <th>Rooms</th>\n",
       "      <th>Type</th>\n",
       "      <th>Distance</th>\n",
       "      <th>Bedroom2</th>\n",
       "      <th>Bathroom</th>\n",
       "      <th>Car</th>\n",
       "      <th>Landsize</th>\n",
       "      <th>BuildingArea</th>\n",
       "      <th>YearBuilt</th>\n",
       "      <th>Regionname</th>\n",
       "      <th>Propertycount</th>\n",
       "    </tr>\n",
       "  </thead>\n",
       "  <tbody>\n",
       "    <tr>\n",
       "      <th>0</th>\n",
       "      <td>abbotsford</td>\n",
       "      <td>-0.981427</td>\n",
       "      <td>h</td>\n",
       "      <td>-1.301437</td>\n",
       "      <td>-0.947000</td>\n",
       "      <td>-0.772347</td>\n",
       "      <td>-0.633757</td>\n",
       "      <td>-0.089312</td>\n",
       "      <td>-1.000000</td>\n",
       "      <td>-1.000000</td>\n",
       "      <td>northern metropolitan</td>\n",
       "      <td>-0.784596</td>\n",
       "    </tr>\n",
       "    <tr>\n",
       "      <th>1</th>\n",
       "      <td>abbotsford</td>\n",
       "      <td>-0.981427</td>\n",
       "      <td>h</td>\n",
       "      <td>-1.301437</td>\n",
       "      <td>-0.947000</td>\n",
       "      <td>-0.772347</td>\n",
       "      <td>-1.672574</td>\n",
       "      <td>-0.100839</td>\n",
       "      <td>-0.134872</td>\n",
       "      <td>-1.735382</td>\n",
       "      <td>northern metropolitan</td>\n",
       "      <td>-0.784596</td>\n",
       "    </tr>\n",
       "    <tr>\n",
       "      <th>2</th>\n",
       "      <td>abbotsford</td>\n",
       "      <td>0.064874</td>\n",
       "      <td>h</td>\n",
       "      <td>-1.301437</td>\n",
       "      <td>0.088281</td>\n",
       "      <td>0.673342</td>\n",
       "      <td>-1.672574</td>\n",
       "      <td>-0.106352</td>\n",
       "      <td>-0.003637</td>\n",
       "      <td>-1.735382</td>\n",
       "      <td>northern metropolitan</td>\n",
       "      <td>-0.784596</td>\n",
       "    </tr>\n",
       "    <tr>\n",
       "      <th>3</th>\n",
       "      <td>abbotsford</td>\n",
       "      <td>0.064874</td>\n",
       "      <td>h</td>\n",
       "      <td>-1.301437</td>\n",
       "      <td>0.088281</td>\n",
       "      <td>0.673342</td>\n",
       "      <td>-0.633757</td>\n",
       "      <td>-0.116375</td>\n",
       "      <td>-1.000000</td>\n",
       "      <td>-1.000000</td>\n",
       "      <td>northern metropolitan</td>\n",
       "      <td>-0.784596</td>\n",
       "    </tr>\n",
       "    <tr>\n",
       "      <th>4</th>\n",
       "      <td>abbotsford</td>\n",
       "      <td>1.111175</td>\n",
       "      <td>h</td>\n",
       "      <td>-1.301437</td>\n",
       "      <td>0.088281</td>\n",
       "      <td>-0.772347</td>\n",
       "      <td>0.405060</td>\n",
       "      <td>-0.109860</td>\n",
       "      <td>-0.018424</td>\n",
       "      <td>1.323070</td>\n",
       "      <td>northern metropolitan</td>\n",
       "      <td>-0.784596</td>\n",
       "    </tr>\n",
       "  </tbody>\n",
       "</table>\n",
       "</div>"
      ],
      "text/plain": [
       "       Suburb     Rooms Type  Distance  Bedroom2  Bathroom       Car  \\\n",
       "0  abbotsford -0.981427    h -1.301437 -0.947000 -0.772347 -0.633757   \n",
       "1  abbotsford -0.981427    h -1.301437 -0.947000 -0.772347 -1.672574   \n",
       "2  abbotsford  0.064874    h -1.301437  0.088281  0.673342 -1.672574   \n",
       "3  abbotsford  0.064874    h -1.301437  0.088281  0.673342 -0.633757   \n",
       "4  abbotsford  1.111175    h -1.301437  0.088281 -0.772347  0.405060   \n",
       "\n",
       "   Landsize  BuildingArea  YearBuilt             Regionname  Propertycount  \n",
       "0 -0.089312     -1.000000  -1.000000  northern metropolitan      -0.784596  \n",
       "1 -0.100839     -0.134872  -1.735382  northern metropolitan      -0.784596  \n",
       "2 -0.106352     -0.003637  -1.735382  northern metropolitan      -0.784596  \n",
       "3 -0.116375     -1.000000  -1.000000  northern metropolitan      -0.784596  \n",
       "4 -0.109860     -0.018424   1.323070  northern metropolitan      -0.784596  "
      ]
     },
     "execution_count": 159,
     "metadata": {},
     "output_type": "execute_result"
    }
   ],
   "source": [
    "melbourne_data.head()"
   ]
  },
  {
   "cell_type": "code",
   "execution_count": 160,
   "metadata": {},
   "outputs": [
    {
     "data": {
      "text/plain": [
       "(13580, 337)"
      ]
     },
     "execution_count": 160,
     "metadata": {},
     "output_type": "execute_result"
    }
   ],
   "source": [
    "melbourne_data = pd.get_dummies(melbourne_data, dummy_na=True) # add Nan and convert word to one hot dataframe column\n",
    "melbourne_data.shape"
   ]
  },
  {
   "cell_type": "code",
   "execution_count": 161,
   "metadata": {},
   "outputs": [
    {
     "data": {
      "text/html": [
       "<div>\n",
       "<style scoped>\n",
       "    .dataframe tbody tr th:only-of-type {\n",
       "        vertical-align: middle;\n",
       "    }\n",
       "\n",
       "    .dataframe tbody tr th {\n",
       "        vertical-align: top;\n",
       "    }\n",
       "\n",
       "    .dataframe thead th {\n",
       "        text-align: right;\n",
       "    }\n",
       "</style>\n",
       "<table border=\"1\" class=\"dataframe\">\n",
       "  <thead>\n",
       "    <tr style=\"text-align: right;\">\n",
       "      <th></th>\n",
       "      <th>Rooms</th>\n",
       "      <th>Distance</th>\n",
       "      <th>Bedroom2</th>\n",
       "      <th>Bathroom</th>\n",
       "      <th>Car</th>\n",
       "      <th>Landsize</th>\n",
       "      <th>BuildingArea</th>\n",
       "      <th>YearBuilt</th>\n",
       "      <th>Propertycount</th>\n",
       "      <th>Suburb_abbotsford</th>\n",
       "      <th>...</th>\n",
       "      <th>Type_nan</th>\n",
       "      <th>Regionname_eastern metropolitan</th>\n",
       "      <th>Regionname_eastern victoria</th>\n",
       "      <th>Regionname_northern metropolitan</th>\n",
       "      <th>Regionname_northern victoria</th>\n",
       "      <th>Regionname_south-eastern metropolitan</th>\n",
       "      <th>Regionname_southern metropolitan</th>\n",
       "      <th>Regionname_western metropolitan</th>\n",
       "      <th>Regionname_western victoria</th>\n",
       "      <th>Regionname_nan</th>\n",
       "    </tr>\n",
       "  </thead>\n",
       "  <tbody>\n",
       "    <tr>\n",
       "      <th>0</th>\n",
       "      <td>-0.981427</td>\n",
       "      <td>-1.301437</td>\n",
       "      <td>-0.947000</td>\n",
       "      <td>-0.772347</td>\n",
       "      <td>-0.633757</td>\n",
       "      <td>-0.089312</td>\n",
       "      <td>-1.000000</td>\n",
       "      <td>-1.000000</td>\n",
       "      <td>-0.784596</td>\n",
       "      <td>1</td>\n",
       "      <td>...</td>\n",
       "      <td>0</td>\n",
       "      <td>0</td>\n",
       "      <td>0</td>\n",
       "      <td>1</td>\n",
       "      <td>0</td>\n",
       "      <td>0</td>\n",
       "      <td>0</td>\n",
       "      <td>0</td>\n",
       "      <td>0</td>\n",
       "      <td>0</td>\n",
       "    </tr>\n",
       "    <tr>\n",
       "      <th>1</th>\n",
       "      <td>-0.981427</td>\n",
       "      <td>-1.301437</td>\n",
       "      <td>-0.947000</td>\n",
       "      <td>-0.772347</td>\n",
       "      <td>-1.672574</td>\n",
       "      <td>-0.100839</td>\n",
       "      <td>-0.134872</td>\n",
       "      <td>-1.735382</td>\n",
       "      <td>-0.784596</td>\n",
       "      <td>1</td>\n",
       "      <td>...</td>\n",
       "      <td>0</td>\n",
       "      <td>0</td>\n",
       "      <td>0</td>\n",
       "      <td>1</td>\n",
       "      <td>0</td>\n",
       "      <td>0</td>\n",
       "      <td>0</td>\n",
       "      <td>0</td>\n",
       "      <td>0</td>\n",
       "      <td>0</td>\n",
       "    </tr>\n",
       "    <tr>\n",
       "      <th>2</th>\n",
       "      <td>0.064874</td>\n",
       "      <td>-1.301437</td>\n",
       "      <td>0.088281</td>\n",
       "      <td>0.673342</td>\n",
       "      <td>-1.672574</td>\n",
       "      <td>-0.106352</td>\n",
       "      <td>-0.003637</td>\n",
       "      <td>-1.735382</td>\n",
       "      <td>-0.784596</td>\n",
       "      <td>1</td>\n",
       "      <td>...</td>\n",
       "      <td>0</td>\n",
       "      <td>0</td>\n",
       "      <td>0</td>\n",
       "      <td>1</td>\n",
       "      <td>0</td>\n",
       "      <td>0</td>\n",
       "      <td>0</td>\n",
       "      <td>0</td>\n",
       "      <td>0</td>\n",
       "      <td>0</td>\n",
       "    </tr>\n",
       "    <tr>\n",
       "      <th>3</th>\n",
       "      <td>0.064874</td>\n",
       "      <td>-1.301437</td>\n",
       "      <td>0.088281</td>\n",
       "      <td>0.673342</td>\n",
       "      <td>-0.633757</td>\n",
       "      <td>-0.116375</td>\n",
       "      <td>-1.000000</td>\n",
       "      <td>-1.000000</td>\n",
       "      <td>-0.784596</td>\n",
       "      <td>1</td>\n",
       "      <td>...</td>\n",
       "      <td>0</td>\n",
       "      <td>0</td>\n",
       "      <td>0</td>\n",
       "      <td>1</td>\n",
       "      <td>0</td>\n",
       "      <td>0</td>\n",
       "      <td>0</td>\n",
       "      <td>0</td>\n",
       "      <td>0</td>\n",
       "      <td>0</td>\n",
       "    </tr>\n",
       "    <tr>\n",
       "      <th>4</th>\n",
       "      <td>1.111175</td>\n",
       "      <td>-1.301437</td>\n",
       "      <td>0.088281</td>\n",
       "      <td>-0.772347</td>\n",
       "      <td>0.405060</td>\n",
       "      <td>-0.109860</td>\n",
       "      <td>-0.018424</td>\n",
       "      <td>1.323070</td>\n",
       "      <td>-0.784596</td>\n",
       "      <td>1</td>\n",
       "      <td>...</td>\n",
       "      <td>0</td>\n",
       "      <td>0</td>\n",
       "      <td>0</td>\n",
       "      <td>1</td>\n",
       "      <td>0</td>\n",
       "      <td>0</td>\n",
       "      <td>0</td>\n",
       "      <td>0</td>\n",
       "      <td>0</td>\n",
       "      <td>0</td>\n",
       "    </tr>\n",
       "  </tbody>\n",
       "</table>\n",
       "<p>5 rows × 337 columns</p>\n",
       "</div>"
      ],
      "text/plain": [
       "      Rooms  Distance  Bedroom2  Bathroom       Car  Landsize  BuildingArea  \\\n",
       "0 -0.981427 -1.301437 -0.947000 -0.772347 -0.633757 -0.089312     -1.000000   \n",
       "1 -0.981427 -1.301437 -0.947000 -0.772347 -1.672574 -0.100839     -0.134872   \n",
       "2  0.064874 -1.301437  0.088281  0.673342 -1.672574 -0.106352     -0.003637   \n",
       "3  0.064874 -1.301437  0.088281  0.673342 -0.633757 -0.116375     -1.000000   \n",
       "4  1.111175 -1.301437  0.088281 -0.772347  0.405060 -0.109860     -0.018424   \n",
       "\n",
       "   YearBuilt  Propertycount  Suburb_abbotsford  ...  Type_nan  \\\n",
       "0  -1.000000      -0.784596                  1  ...         0   \n",
       "1  -1.735382      -0.784596                  1  ...         0   \n",
       "2  -1.735382      -0.784596                  1  ...         0   \n",
       "3  -1.000000      -0.784596                  1  ...         0   \n",
       "4   1.323070      -0.784596                  1  ...         0   \n",
       "\n",
       "   Regionname_eastern metropolitan  Regionname_eastern victoria  \\\n",
       "0                                0                            0   \n",
       "1                                0                            0   \n",
       "2                                0                            0   \n",
       "3                                0                            0   \n",
       "4                                0                            0   \n",
       "\n",
       "   Regionname_northern metropolitan  Regionname_northern victoria  \\\n",
       "0                                 1                             0   \n",
       "1                                 1                             0   \n",
       "2                                 1                             0   \n",
       "3                                 1                             0   \n",
       "4                                 1                             0   \n",
       "\n",
       "   Regionname_south-eastern metropolitan  Regionname_southern metropolitan  \\\n",
       "0                                      0                                 0   \n",
       "1                                      0                                 0   \n",
       "2                                      0                                 0   \n",
       "3                                      0                                 0   \n",
       "4                                      0                                 0   \n",
       "\n",
       "   Regionname_western metropolitan  Regionname_western victoria  \\\n",
       "0                                0                            0   \n",
       "1                                0                            0   \n",
       "2                                0                            0   \n",
       "3                                0                            0   \n",
       "4                                0                            0   \n",
       "\n",
       "   Regionname_nan  \n",
       "0               0  \n",
       "1               0  \n",
       "2               0  \n",
       "3               0  \n",
       "4               0  \n",
       "\n",
       "[5 rows x 337 columns]"
      ]
     },
     "execution_count": 161,
     "metadata": {},
     "output_type": "execute_result"
    }
   ],
   "source": [
    "melbourne_data.head()"
   ]
  },
  {
   "cell_type": "code",
   "execution_count": 162,
   "metadata": {},
   "outputs": [],
   "source": [
    "melbourne_data[TARGET_COLUMN_NAME]=target_column"
   ]
  },
  {
   "cell_type": "code",
   "execution_count": 163,
   "metadata": {},
   "outputs": [],
   "source": [
    "train = melbourne_data.sample(frac=0.8,random_state=200)\n",
    "target_train = train.pop('Price')\n",
    "test = melbourne_data.drop(train.index)\n",
    "target_test = test.pop('Price')"
   ]
  },
  {
   "cell_type": "code",
   "execution_count": 164,
   "metadata": {},
   "outputs": [],
   "source": [
    "train_dataset = tf.data.Dataset.from_tensor_slices((train.values, target_train.values))\n",
    "test_dataset = tf.data.Dataset.from_tensor_slices((test.values, target_test.values))"
   ]
  },
  {
   "cell_type": "code",
   "execution_count": null,
   "metadata": {},
   "outputs": [],
   "source": []
  },
  {
   "cell_type": "code",
   "execution_count": 174,
   "metadata": {
    "scrolled": true
   },
   "outputs": [],
   "source": [
    "logdir = \"logs/scalars/\" + datetime.now().strftime(\"%Y%m%d-%H%M%S\")\n",
    "tensorboard_callback = tf.keras.callbacks.TensorBoard(log_dir=logdir)\n",
    "\n",
    "def custom_loss_function(y_actual,y_predicted):\n",
    "    loss = tf.keras.losses.MeanSquaredError()\n",
    "    clipped_preds = tf.clip_by_value(y_predicted, 1, float('inf'))\n",
    "    return tf.sqrt(tf.reduce_mean(loss(\n",
    "        tf.math.log(y_actual), tf.math.log(clipped_preds))))\n",
    "\n",
    "\n",
    "class MultiPerceptron(tf.keras.Model):\n",
    "\n",
    "    def __init__(self):\n",
    "        super(MultiPerceptron, self).__init__()\n",
    "        self.dense1 = tf.keras.layers.Dense(train.shape[1],activation=tf.nn.sigmoid)\n",
    "        self.dense2 = tf.keras.layers.Dense(50,activation=tf.nn.sigmoid)\n",
    "        self.dense3 = tf.keras.layers.Dense(50,activation=tf.nn.sigmoid)\n",
    "        self.dense4 = tf.keras.layers.Dense(1)\n",
    "        self.dropout = tf.keras.layers.Dropout(0.5)\n",
    "\n",
    "    def call(self, inputs, training=False):\n",
    "        x = self.dense1(inputs)\n",
    "        if training:\n",
    "            x = self.dropout(x, training=training)\n",
    "        y = self.dense2(x)\n",
    "        y2 = self.dense3(y)\n",
    "        return self.dense4(y2)\n",
    "   \n",
    "\n",
    "model = MultiPerceptron()\n",
    "model.compile(optimizer='adam',\n",
    "                loss='mean_squared_logarithmic_error',\n",
    "                metrics=['mean_squared_logarithmic_error'],\n",
    "             )\n"
   ]
  },
  {
   "cell_type": "code",
   "execution_count": 166,
   "metadata": {},
   "outputs": [],
   "source": [
    "train_dataset = train_dataset.shuffle(len(train)).batch(1)"
   ]
  },
  {
   "cell_type": "code",
   "execution_count": 167,
   "metadata": {},
   "outputs": [],
   "source": [
    "test_dataset = test_dataset.batch(1)"
   ]
  },
  {
   "cell_type": "code",
   "execution_count": 175,
   "metadata": {},
   "outputs": [
    {
     "name": "stdout",
     "output_type": "stream",
     "text": [
      "Epoch 1/10\n",
      "WARNING:tensorflow:Layer multi_perceptron_15 is casting an input tensor from dtype float64 to the layer's dtype of float32, which is new behavior in TensorFlow 2.  The layer has dtype float32 because its dtype defaults to floatx.\n",
      "\n",
      "If you intended to run this layer in float32, you can safely ignore this warning. If in doubt, this warning is likely only an issue if you are porting a TensorFlow 1.X model to TensorFlow 2.\n",
      "\n",
      "To change all layers to have dtype float64 by default, call `tf.keras.backend.set_floatx('float64')`. To change just this layer, pass dtype='float64' to the layer constructor. If you are the author of this layer, you can disable autocasting by passing autocast=False to the base Layer constructor.\n",
      "\n",
      "    1/10864 [..............................] - ETA: 1s - loss: 181.8238 - mean_squared_logarithmic_error: 181.8238WARNING:tensorflow:Callbacks method `on_train_batch_end` is slow compared to the batch time (batch time: 0.0018s vs `on_train_batch_end` time: 0.0321s). Check your callbacks.\n",
      "10864/10864 [==============================] - 13s 1ms/step - loss: 84.3628 - mean_squared_logarithmic_error: 84.3628 - val_loss: 65.6491 - val_mean_squared_logarithmic_error: 65.6491\n",
      "Epoch 2/10\n",
      "10864/10864 [==============================] - 15s 1ms/step - loss: 57.6521 - mean_squared_logarithmic_error: 57.6521 - val_loss: 51.8142 - val_mean_squared_logarithmic_error: 51.8142\n",
      "Epoch 3/10\n",
      "10864/10864 [==============================] - 13s 1ms/step - loss: 47.9087 - mean_squared_logarithmic_error: 47.9087 - val_loss: 44.7661 - val_mean_squared_logarithmic_error: 44.7661\n",
      "Epoch 4/10\n",
      "10864/10864 [==============================] - 13s 1ms/step - loss: 42.1422 - mean_squared_logarithmic_error: 42.1422 - val_loss: 39.9767 - val_mean_squared_logarithmic_error: 39.9767\n",
      "Epoch 5/10\n",
      "10864/10864 [==============================] - 14s 1ms/step - loss: 38.1522 - mean_squared_logarithmic_error: 38.1522 - val_loss: 36.6315 - val_mean_squared_logarithmic_error: 36.6315\n",
      "Epoch 6/10\n",
      "10864/10864 [==============================] - 13s 1ms/step - loss: 35.2470 - mean_squared_logarithmic_error: 35.2470 - val_loss: 34.0926 - val_mean_squared_logarithmic_error: 34.0926\n",
      "Epoch 7/10\n",
      "10864/10864 [==============================] - 13s 1ms/step - loss: 32.9821 - mean_squared_logarithmic_error: 32.9821 - val_loss: 32.0640 - val_mean_squared_logarithmic_error: 32.0640\n",
      "Epoch 8/10\n",
      "10864/10864 [==============================] - 14s 1ms/step - loss: 31.1402 - mean_squared_logarithmic_error: 31.1402 - val_loss: 30.3864 - val_mean_squared_logarithmic_error: 30.3864\n",
      "Epoch 9/10\n",
      "10864/10864 [==============================] - 13s 1ms/step - loss: 29.5988 - mean_squared_logarithmic_error: 29.5988 - val_loss: 28.9637 - val_mean_squared_logarithmic_error: 28.9637\n",
      "Epoch 10/10\n",
      "10864/10864 [==============================] - 13s 1ms/step - loss: 28.2772 - mean_squared_logarithmic_error: 28.2772 - val_loss: 27.7329 - val_mean_squared_logarithmic_error: 27.7329\n"
     ]
    },
    {
     "data": {
      "text/plain": [
       "<tensorflow.python.keras.callbacks.History at 0x7ff5522cddf0>"
      ]
     },
     "execution_count": 175,
     "metadata": {},
     "output_type": "execute_result"
    }
   ],
   "source": [
    "model.fit(\n",
    "    train_dataset, \n",
    "    epochs=10, \n",
    "    callbacks=[tensorboard_callback],\n",
    "    validation_data=(test.values,target_test.values),\n",
    "    use_multiprocessing=True\n",
    ")\n"
   ]
  },
  {
   "cell_type": "code",
   "execution_count": 169,
   "metadata": {},
   "outputs": [],
   "source": [
    "res = model.predict(test_dataset)"
   ]
  },
  {
   "cell_type": "code",
   "execution_count": 173,
   "metadata": {},
   "outputs": [
    {
     "name": "stdout",
     "output_type": "stream",
     "text": [
      "Average loss: 94568.98212369798\n"
     ]
    }
   ],
   "source": [
    "average_diff = 0\n",
    "for pred_price, orig_price in zip(res,target_test):\n",
    "    average_diff = (average_diff + abs(orig_price - pred_price[0])) / 2\n",
    "#     print(f'Original price: {orig_price};    Prediciton price: {pred_price[0]}. \\t Difference: {abs(orig_price-pred_price[0])}')\n",
    "    \n",
    "# print('\\n')\n",
    "print(f'Average loss: {average_diff}')"
   ]
  },
  {
   "cell_type": "code",
   "execution_count": 172,
   "metadata": {},
   "outputs": [
    {
     "data": {
      "text/plain": [
       "Reusing TensorBoard on port 6006 (pid 12733), started 0:03:37 ago. (Use '!kill 12733' to kill it.)"
      ]
     },
     "metadata": {},
     "output_type": "display_data"
    },
    {
     "data": {
      "text/html": [
       "\n",
       "      <iframe id=\"tensorboard-frame-2d87af3087f34698\" width=\"100%\" height=\"800\" frameborder=\"0\">\n",
       "      </iframe>\n",
       "      <script>\n",
       "        (function() {\n",
       "          const frame = document.getElementById(\"tensorboard-frame-2d87af3087f34698\");\n",
       "          const url = new URL(\"/\", window.location);\n",
       "          const port = 6006;\n",
       "          if (port) {\n",
       "            url.port = port;\n",
       "          }\n",
       "          frame.src = url;\n",
       "        })();\n",
       "      </script>\n",
       "    "
      ],
      "text/plain": [
       "<IPython.core.display.HTML object>"
      ]
     },
     "metadata": {},
     "output_type": "display_data"
    }
   ],
   "source": [
    "%tensorboard --logdir logs/scalars"
   ]
  },
  {
   "cell_type": "code",
   "execution_count": null,
   "metadata": {},
   "outputs": [],
   "source": []
  }
 ],
 "metadata": {
  "kernelspec": {
   "display_name": "Python 3",
   "language": "python",
   "name": "python3"
  },
  "language_info": {
   "codemirror_mode": {
    "name": "ipython",
    "version": 3
   },
   "file_extension": ".py",
   "mimetype": "text/x-python",
   "name": "python",
   "nbconvert_exporter": "python",
   "pygments_lexer": "ipython3",
   "version": "3.8.3"
  }
 },
 "nbformat": 4,
 "nbformat_minor": 4
}
