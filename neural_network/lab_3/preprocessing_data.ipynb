{
 "cells": [
  {
   "cell_type": "code",
   "execution_count": 3,
   "metadata": {},
   "outputs": [],
   "source": [
    "import os\n",
    "import os\n",
    "import numpy as np\n",
    "import shutil\n",
    "import random\n"
   ]
  },
  {
   "cell_type": "code",
   "execution_count": 7,
   "metadata": {},
   "outputs": [
    {
     "data": {
      "text/plain": [
       "['cloudy', 'rain', 'shine', 'sunrise']"
      ]
     },
     "execution_count": 7,
     "metadata": {},
     "output_type": "execute_result"
    }
   ],
   "source": [
    "DATASET_DIR = \"./weather_dataset/\"\n",
    "NUM_CLASSES = 4\n",
    "data_dir = os.listdir(DATASET_DIR)\n",
    "data_dir"
   ]
  },
  {
   "cell_type": "code",
   "execution_count": 8,
   "metadata": {},
   "outputs": [
    {
     "name": "stdout",
     "output_type": "stream",
     "text": [
      "['cloudy', 'rain', 'shine', 'sunrise']\n",
      "4\n"
     ]
    }
   ],
   "source": [
    "# # Creating Train / Val / Test folders (One time use)\n",
    "root_dir = DATASET_DIR\n",
    "classes_dir = data_dir\n",
    "classes_dir = list(filter(lambda x:x not in ['test','train','val'],classes_dir))\n",
    "\n",
    "print(classes_dir)\n",
    "print(len(classes_dir))"
   ]
  },
  {
   "cell_type": "code",
   "execution_count": 9,
   "metadata": {},
   "outputs": [
    {
     "name": "stdout",
     "output_type": "stream",
     "text": [
      "Class 0: cloudy\n",
      "Total images:  300\n",
      "Training:  255\n",
      "Validation:  45\n",
      "--------\n",
      "Class 1: rain\n",
      "Total images:  215\n",
      "Training:  182\n",
      "Validation:  33\n",
      "--------\n",
      "Class 2: shine\n",
      "Total images:  253\n",
      "Training:  215\n",
      "Validation:  38\n",
      "--------\n",
      "Class 3: sunrise\n",
      "Total images:  357\n",
      "Training:  303\n",
      "Validation:  54\n",
      "--------\n"
     ]
    }
   ],
   "source": [
    "for num, cls in enumerate(classes_dir):\n",
    "    try:\n",
    "        os.makedirs(root_dir +'train/' + cls)\n",
    "        os.makedirs(root_dir +'val/' + cls)\n",
    "    except Exception as e:\n",
    "        print('This root has been already created!')\n",
    "\n",
    "    # Creating partitions of the data after shuffeling\n",
    "    src = root_dir + cls # Folder to copy images from\n",
    "\n",
    "    allFileNames = os.listdir(src)\n",
    "  \n",
    "    train_border = int(len(allFileNames)*0.85)\n",
    "    \n",
    "    train_FileNames = allFileNames[:train_border]\n",
    "    val_FileNames = allFileNames[train_border:]\n",
    "    \n",
    "    train_FileNames = [src+'/'+ name for name in train_FileNames]\n",
    "    val_FileNames = [src+'/' + name for name in val_FileNames]\n",
    "\n",
    "    print(f'Class {num}: {cls}')\n",
    "    print('Total images: ', len(allFileNames))\n",
    "    print('Training: ', len(train_FileNames))\n",
    "    print('Validation: ', len(val_FileNames))\n",
    "    print('--------')\n",
    "\n",
    "    # Copy-pasting images\n",
    "    for name in train_FileNames:\n",
    "        shutil.copy(name, root_dir +'/train/' + cls)\n",
    "\n",
    "    for name in val_FileNames:\n",
    "        shutil.copy(name, root_dir +'/val/' + cls)"
   ]
  },
  {
   "cell_type": "code",
   "execution_count": null,
   "metadata": {},
   "outputs": [],
   "source": []
  }
 ],
 "metadata": {
  "kernelspec": {
   "display_name": "Python 3",
   "language": "python",
   "name": "python3"
  },
  "language_info": {
   "codemirror_mode": {
    "name": "ipython",
    "version": 3
   },
   "file_extension": ".py",
   "mimetype": "text/x-python",
   "name": "python",
   "nbconvert_exporter": "python",
   "pygments_lexer": "ipython3",
   "version": "3.8.3"
  }
 },
 "nbformat": 4,
 "nbformat_minor": 4
}
